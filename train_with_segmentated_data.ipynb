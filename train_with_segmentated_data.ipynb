{
 "cells": [
  {
   "cell_type": "code",
   "execution_count": 1,
   "metadata": {},
   "outputs": [],
   "source": [
    "import matplotlib.pyplot as plt\n",
    "import numpy as np\n",
    "from utils.image import resplit\n",
    "import os"
   ]
  },
  {
   "cell_type": "code",
   "execution_count": 2,
   "metadata": {},
   "outputs": [],
   "source": [
    "original_path = ['.', 'data', 'new_data']\n",
    "new_path = ['.', 'data', 'segmentated_data']"
   ]
  },
  {
   "cell_type": "markdown",
   "metadata": {},
   "source": [
    "### Use rectangle image (size 150 x 50) instead of square image"
   ]
  },
  {
   "cell_type": "code",
   "execution_count": 15,
   "metadata": {},
   "outputs": [
    {
     "data": {
      "text/plain": [
       "<matplotlib.image.AxesImage at 0x1c964e7e0c8>"
      ]
     },
     "execution_count": 15,
     "metadata": {},
     "output_type": "execute_result"
    },
    {
     "data": {
      "image/png": "[encoded data removed]",
      "text/plain": [
       "<Figure size 432x288 with 1 Axes>"
      ]
     },
     "metadata": {
      "needs_background": "light"
     },
     "output_type": "display_data"
    }
   ],
   "source": [
    "path = './data/segmentated_data/OK'\n",
    "imgpath = os.listdir(path)[0]\n",
    "img = plt.imread(os.path.join(path, imgpath))\n",
    "plt.imshow(img)"
   ]
  },
  {
   "cell_type": "code",
   "execution_count": 16,
   "metadata": {},
   "outputs": [],
   "source": [
    "import os\n",
    "import numpy as np\n",
    "import tensorflow as tf\n",
    "from datetime import datetime, date\n",
    "from utils.model import create_model\n",
    "from utils.webservice import getsize_h5model, log_write\n",
    "from utils.data import create_dataframe, ImageGenerator, get_sample, config_batch\n",
    "from sklearn.model_selection import train_test_split\n",
    "\n",
    "from configs.server import MODEL_PATH, LOG_FILE, FLAG, HIST, NEED_CONFIRM\n",
    "from configs.image import DATA_PATH\n",
    "import keras\n",
    "import matplotlib.pyplot as plt"
   ]
  },
  {
   "cell_type": "code",
   "execution_count": 17,
   "metadata": {},
   "outputs": [],
   "source": [
    "image_folder = 'segmentated_data'\n",
    "training_path = os.path.join(DATA_PATH, image_folder)\n",
    "classes = [name for name in os.listdir(training_path)\n",
    "               if os.path.isdir(os.path.join(training_path, name))]\n",
    "num_classes = len(classes)\n",
    "image_shape = (150, 50, 3)"
   ]
  },
  {
   "cell_type": "code",
   "execution_count": 18,
   "metadata": {},
   "outputs": [
    {
     "data": {
      "text/html": [
       "<div>\n",
       "<style scoped>\n",
       "    .dataframe tbody tr th:only-of-type {\n",
       "        vertical-align: middle;\n",
       "    }\n",
       "\n",
       "    .dataframe tbody tr th {\n",
       "        vertical-align: top;\n",
       "    }\n",
       "\n",
       "    .dataframe thead th {\n",
       "        text-align: right;\n",
       "    }\n",
       "</style>\n",
       "<table border=\"1\" class=\"dataframe\">\n",
       "  <thead>\n",
       "    <tr style=\"text-align: right;\">\n",
       "      <th></th>\n",
       "      <th>Filepath</th>\n",
       "      <th>Classes</th>\n",
       "      <th>Label</th>\n",
       "    </tr>\n",
       "  </thead>\n",
       "  <tbody>\n",
       "    <tr>\n",
       "      <th>0</th>\n",
       "      <td>data\\segmentated_data\\NG\\left_20191125091739_W...</td>\n",
       "      <td>NG</td>\n",
       "      <td>0</td>\n",
       "    </tr>\n",
       "    <tr>\n",
       "      <th>1</th>\n",
       "      <td>data\\segmentated_data\\NG\\left_20191125091923_W...</td>\n",
       "      <td>NG</td>\n",
       "      <td>0</td>\n",
       "    </tr>\n",
       "    <tr>\n",
       "      <th>2</th>\n",
       "      <td>data\\segmentated_data\\NG\\left_20191125092017_W...</td>\n",
       "      <td>NG</td>\n",
       "      <td>0</td>\n",
       "    </tr>\n",
       "    <tr>\n",
       "      <th>3</th>\n",
       "      <td>data\\segmentated_data\\NG\\left_20191125092137_W...</td>\n",
       "      <td>NG</td>\n",
       "      <td>0</td>\n",
       "    </tr>\n",
       "  </tbody>\n",
       "</table>\n",
       "</div>"
      ],
      "text/plain": [
       "                                            Filepath Classes Label\n",
       "0  data\\segmentated_data\\NG\\left_20191125091739_W...      NG     0\n",
       "1  data\\segmentated_data\\NG\\left_20191125091923_W...      NG     0\n",
       "2  data\\segmentated_data\\NG\\left_20191125092017_W...      NG     0\n",
       "3  data\\segmentated_data\\NG\\left_20191125092137_W...      NG     0"
      ]
     },
     "execution_count": 18,
     "metadata": {},
     "output_type": "execute_result"
    }
   ],
   "source": [
    "image_dataframe = create_dataframe(training_path, classes)\n",
    "image_dataframe.head(4)"
   ]
  },
  {
   "cell_type": "code",
   "execution_count": 19,
   "metadata": {},
   "outputs": [],
   "source": [
    "data_split = ['train', 'val']"
   ]
  },
  {
   "cell_type": "code",
   "execution_count": 20,
   "metadata": {},
   "outputs": [
    {
     "name": "stdout",
     "output_type": "stream",
     "text": [
      "Found 589 validated image filenames belonging to 2 classes.\n",
      "Found 105 validated image filenames belonging to 2 classes.\n"
     ]
    }
   ],
   "source": [
    "image_generator = tf.keras.preprocessing.image.ImageDataGenerator(rescale=1./255)\n",
    "train_frame, test_frame = train_test_split(image_dataframe, test_size=0.15, random_state=911)\n",
    "dtframe = {'train': train_frame, 'val': test_frame}\n",
    "\n",
    "generator = {x: image_generator.flow_from_dataframe(dataframe=dtframe[x], \n",
    "                                                    x_col='Filepath',\n",
    "                                                    y_col='Classes',\n",
    "                                                    target_size=(150, 50),\n",
    "                                                    class_model='categorical',\n",
    "                                                    shuffle = x == 'train',\n",
    "                                                    batch_size=8)\n",
    "            for x in data_split}"
   ]
  },
  {
   "cell_type": "code",
   "execution_count": 21,
   "metadata": {},
   "outputs": [],
   "source": [
    "imgs, _ = next(generator['val'])"
   ]
  },
  {
   "cell_type": "code",
   "execution_count": 22,
   "metadata": {},
   "outputs": [
    {
     "data": {
      "text/plain": [
       "(8, 150, 50, 3)"
      ]
     },
     "execution_count": 22,
     "metadata": {},
     "output_type": "execute_result"
    }
   ],
   "source": [
    "imgs.shape"
   ]
  },
  {
   "cell_type": "code",
   "execution_count": 23,
   "metadata": {},
   "outputs": [],
   "source": [
    "lr = 0.001\n",
    "def scheduler(epoch):\n",
    "    if epoch < 7:\n",
    "        return lr\n",
    "    else:\n",
    "        return lr * tf.math.exp(0.1 * (10 - epoch))\n",
    "\n",
    "lr_callback = tf.keras.callbacks.LearningRateScheduler(scheduler)"
   ]
  },
  {
   "cell_type": "code",
   "execution_count": 24,
   "metadata": {},
   "outputs": [],
   "source": [
    "checkpoint_path = './tflog/simple_segmentated.h5'\n",
    "checkpoint_dir = os.path.dirname(checkpoint_path)\n",
    "saving_callback = tf.keras.callbacks.ModelCheckpoint(filepath=checkpoint_path,\n",
    "                                                  monitor='val_accuracy',\n",
    "                                                  save_best_only=True,\n",
    "                                                  verbose=1)"
   ]
  },
  {
   "cell_type": "code",
   "execution_count": 25,
   "metadata": {},
   "outputs": [
    {
     "name": "stdout",
     "output_type": "stream",
     "text": [
      "WARNING:tensorflow:sample_weight modes were coerced from\n",
      "  ...\n",
      "    to  \n",
      "  ['...']\n",
      "WARNING:tensorflow:sample_weight modes were coerced from\n",
      "  ...\n",
      "    to  \n",
      "  ['...']\n",
      "Train for 74 steps, validate for 14 steps\n",
      "Epoch 1/50\n",
      "73/74 [============================>.] - ETA: 0s - loss: 0.3133 - accuracy: 0.8554\n",
      "Epoch 00001: val_accuracy improved from -inf to 0.19048, saving model to ./tflog/simple_segmentated.h5\n",
      "74/74 [==============================] - 4s 57ms/step - loss: 0.3105 - accuracy: 0.8574 - val_loss: 1.1123 - val_accuracy: 0.1905\n",
      "Epoch 2/50\n",
      "73/74 [============================>.] - ETA: 0s - loss: 0.2639 - accuracy: 0.8692\n",
      "Epoch 00002: val_accuracy did not improve from 0.19048\n",
      "74/74 [==============================] - 2s 26ms/step - loss: 0.2618 - accuracy: 0.8710 - val_loss: 1.0384 - val_accuracy: 0.1905\n",
      "Epoch 3/50\n",
      "72/74 [============================>.] - ETA: 0s - loss: 0.2049 - accuracy: 0.8953\n",
      "Epoch 00003: val_accuracy did not improve from 0.19048\n",
      "74/74 [==============================] - 2s 26ms/step - loss: 0.2033 - accuracy: 0.8981 - val_loss: 1.2154 - val_accuracy: 0.1905\n",
      "Epoch 4/50\n",
      "72/74 [============================>.] - ETA: 0s - loss: 0.1811 - accuracy: 0.9145\n",
      "Epoch 00004: val_accuracy improved from 0.19048 to 0.20952, saving model to ./tflog/simple_segmentated.h5\n",
      "74/74 [==============================] - 2s 27ms/step - loss: 0.1845 - accuracy: 0.9134 - val_loss: 1.2992 - val_accuracy: 0.2095\n",
      "Epoch 5/50\n",
      "71/74 [===========================>..] - ETA: 0s - loss: 0.1661 - accuracy: 0.9204\n",
      "Epoch 00005: val_accuracy improved from 0.20952 to 0.60952, saving model to ./tflog/simple_segmentated.h5\n",
      "74/74 [==============================] - 2s 27ms/step - loss: 0.1672 - accuracy: 0.9236 - val_loss: 0.6338 - val_accuracy: 0.6095\n",
      "Epoch 6/50\n",
      "72/74 [============================>.] - ETA: 0s - loss: 0.1525 - accuracy: 0.9267\n",
      "Epoch 00006: val_accuracy improved from 0.60952 to 0.87619, saving model to ./tflog/simple_segmentated.h5\n",
      "74/74 [==============================] - 2s 26ms/step - loss: 0.1517 - accuracy: 0.9270 - val_loss: 0.4229 - val_accuracy: 0.8762\n",
      "Epoch 7/50\n",
      "73/74 [============================>.] - ETA: 0s - loss: 0.1150 - accuracy: 0.9535\n",
      "Epoch 00007: val_accuracy improved from 0.87619 to 0.90476, saving model to ./tflog/simple_segmentated.h5\n",
      "74/74 [==============================] - 2s 27ms/step - loss: 0.1204 - accuracy: 0.9508 - val_loss: 0.2134 - val_accuracy: 0.9048\n",
      "Epoch 8/50\n",
      "71/74 [===========================>..] - ETA: 0s - loss: 0.1373 - accuracy: 0.9327\n",
      "Epoch 00008: val_accuracy did not improve from 0.90476\n",
      "74/74 [==============================] - 2s 27ms/step - loss: 0.1409 - accuracy: 0.9304 - val_loss: 0.1855 - val_accuracy: 0.9048\n",
      "Epoch 9/50\n",
      "72/74 [============================>.] - ETA: 0s - loss: 0.1342 - accuracy: 0.9424\n",
      "Epoch 00009: val_accuracy improved from 0.90476 to 0.93333, saving model to ./tflog/simple_segmentated.h5\n",
      "74/74 [==============================] - 2s 27ms/step - loss: 0.1385 - accuracy: 0.9423 - val_loss: 0.1699 - val_accuracy: 0.9333\n",
      "Epoch 10/50\n",
      "73/74 [============================>.] - ETA: 0s - loss: 0.0904 - accuracy: 0.9656\n",
      "Epoch 00010: val_accuracy did not improve from 0.93333\n",
      "74/74 [==============================] - 2s 26ms/step - loss: 0.0947 - accuracy: 0.9626 - val_loss: 0.4731 - val_accuracy: 0.8000\n",
      "Epoch 11/50\n",
      "72/74 [============================>.] - ETA: 0s - loss: 0.0736 - accuracy: 0.9756\n",
      "Epoch 00011: val_accuracy did not improve from 0.93333\n",
      "74/74 [==============================] - 2s 26ms/step - loss: 0.0761 - accuracy: 0.9745 - val_loss: 0.2054 - val_accuracy: 0.9048\n",
      "Epoch 12/50\n",
      "73/74 [============================>.] - ETA: 0s - loss: 0.0779 - accuracy: 0.9656\n",
      "Epoch 00012: val_accuracy improved from 0.93333 to 0.94286, saving model to ./tflog/simple_segmentated.h5\n",
      "74/74 [==============================] - 2s 26ms/step - loss: 0.0772 - accuracy: 0.9660 - val_loss: 0.1629 - val_accuracy: 0.9429\n",
      "Epoch 13/50\n",
      "73/74 [============================>.] - ETA: 0s - loss: 0.0471 - accuracy: 0.9846\n",
      "Epoch 00013: val_accuracy did not improve from 0.94286\n",
      "74/74 [==============================] - 2s 26ms/step - loss: 0.0466 - accuracy: 0.9847 - val_loss: 0.2328 - val_accuracy: 0.9143\n",
      "Epoch 14/50\n",
      "72/74 [============================>.] - ETA: 0s - loss: 0.0282 - accuracy: 0.9948\n",
      "Epoch 00014: val_accuracy improved from 0.94286 to 0.95238, saving model to ./tflog/simple_segmentated.h5\n",
      "74/74 [==============================] - 2s 27ms/step - loss: 0.0278 - accuracy: 0.9949 - val_loss: 0.2223 - val_accuracy: 0.9524\n",
      "Epoch 15/50\n",
      "73/74 [============================>.] - ETA: 0s - loss: 0.0101 - accuracy: 1.0000\n",
      "Epoch 00015: val_accuracy did not improve from 0.95238\n",
      "74/74 [==============================] - 2s 26ms/step - loss: 0.0100 - accuracy: 1.0000 - val_loss: 0.2598 - val_accuracy: 0.9524\n",
      "Epoch 16/50\n",
      "73/74 [============================>.] - ETA: 0s - loss: 0.0058 - accuracy: 1.0000\n",
      "Epoch 00016: val_accuracy did not improve from 0.95238\n",
      "74/74 [==============================] - 2s 26ms/step - loss: 0.0057 - accuracy: 1.0000 - val_loss: 0.2337 - val_accuracy: 0.9524\n",
      "Epoch 17/50\n",
      "72/74 [============================>.] - ETA: 0s - loss: 0.0037 - accuracy: 1.0000\n",
      "Epoch 00017: val_accuracy did not improve from 0.95238\n",
      "74/74 [==============================] - 2s 27ms/step - loss: 0.0038 - accuracy: 1.0000 - val_loss: 0.2333 - val_accuracy: 0.9524\n",
      "Epoch 18/50\n",
      "73/74 [============================>.] - ETA: 0s - loss: 0.0025 - accuracy: 1.0000\n",
      "Epoch 00018: val_accuracy did not improve from 0.95238\n",
      "74/74 [==============================] - 2s 26ms/step - loss: 0.0025 - accuracy: 1.0000 - val_loss: 0.2385 - val_accuracy: 0.9524\n",
      "Epoch 19/50\n",
      "73/74 [============================>.] - ETA: 0s - loss: 0.0021 - accuracy: 1.0000\n",
      "Epoch 00019: val_accuracy did not improve from 0.95238\n",
      "74/74 [==============================] - 2s 26ms/step - loss: 0.0020 - accuracy: 1.0000 - val_loss: 0.2529 - val_accuracy: 0.9524\n",
      "Epoch 20/50\n",
      "73/74 [============================>.] - ETA: 0s - loss: 0.0017 - accuracy: 1.0000\n",
      "Epoch 00020: val_accuracy did not improve from 0.95238\n",
      "74/74 [==============================] - 2s 26ms/step - loss: 0.0017 - accuracy: 1.0000 - val_loss: 0.2536 - val_accuracy: 0.9524\n",
      "Epoch 21/50\n",
      "72/74 [============================>.] - ETA: 0s - loss: 0.0015 - accuracy: 1.0000\n",
      "Epoch 00021: val_accuracy did not improve from 0.95238\n",
      "74/74 [==============================] - 2s 26ms/step - loss: 0.0015 - accuracy: 1.0000 - val_loss: 0.2542 - val_accuracy: 0.9524\n",
      "Epoch 22/50\n",
      "72/74 [============================>.] - ETA: 0s - loss: 0.0014 - accuracy: 1.0000\n",
      "Epoch 00022: val_accuracy did not improve from 0.95238\n",
      "74/74 [==============================] - 2s 27ms/step - loss: 0.0013 - accuracy: 1.0000 - val_loss: 0.2567 - val_accuracy: 0.9524\n",
      "Epoch 23/50\n",
      "71/74 [===========================>..] - ETA: 0s - loss: 0.0012 - accuracy: 1.0000\n",
      "Epoch 00023: val_accuracy did not improve from 0.95238\n",
      "74/74 [==============================] - 2s 26ms/step - loss: 0.0012 - accuracy: 1.0000 - val_loss: 0.2604 - val_accuracy: 0.9524\n",
      "Epoch 24/50\n",
      "73/74 [============================>.] - ETA: 0s - loss: 0.0011 - accuracy: 1.0000\n",
      "Epoch 00024: val_accuracy did not improve from 0.95238\n",
      "74/74 [==============================] - 2s 26ms/step - loss: 0.0011 - accuracy: 1.0000 - val_loss: 0.2613 - val_accuracy: 0.9524\n",
      "Epoch 25/50\n",
      "73/74 [============================>.] - ETA: 0s - loss: 0.0010 - accuracy: 1.0000\n",
      "Epoch 00025: val_accuracy improved from 0.95238 to 0.96190, saving model to ./tflog/simple_segmentated.h5\n",
      "74/74 [==============================] - 2s 27ms/step - loss: 0.0010 - accuracy: 1.0000 - val_loss: 0.2611 - val_accuracy: 0.9619\n",
      "Epoch 26/50\n",
      "72/74 [============================>.] - ETA: 0s - loss: 9.5399e-04 - accuracy: 1.0000\n",
      "Epoch 00026: val_accuracy did not improve from 0.96190\n",
      "74/74 [==============================] - 2s 26ms/step - loss: 9.6641e-04 - accuracy: 1.0000 - val_loss: 0.2644 - val_accuracy: 0.9619\n",
      "Epoch 27/50\n",
      "73/74 [============================>.] - ETA: 0s - loss: 8.9688e-04 - accuracy: 1.0000\n",
      "Epoch 00027: val_accuracy did not improve from 0.96190\n",
      "74/74 [==============================] - 2s 26ms/step - loss: 8.9840e-04 - accuracy: 1.0000 - val_loss: 0.2677 - val_accuracy: 0.9524\n"
     ]
    },
    {
     "name": "stdout",
     "output_type": "stream",
     "text": [
      "Epoch 28/50\n",
      "72/74 [============================>.] - ETA: 0s - loss: 8.5434e-04 - accuracy: 1.0000\n",
      "Epoch 00028: val_accuracy did not improve from 0.96190\n",
      "74/74 [==============================] - 2s 26ms/step - loss: 8.5389e-04 - accuracy: 1.0000 - val_loss: 0.2704 - val_accuracy: 0.9524\n",
      "Epoch 29/50\n",
      "72/74 [============================>.] - ETA: 0s - loss: 7.9911e-04 - accuracy: 1.0000\n",
      "Epoch 00029: val_accuracy did not improve from 0.96190\n",
      "74/74 [==============================] - 2s 26ms/step - loss: 8.1076e-04 - accuracy: 1.0000 - val_loss: 0.2691 - val_accuracy: 0.9524\n",
      "Epoch 30/50\n",
      "73/74 [============================>.] - ETA: 0s - loss: 7.6875e-04 - accuracy: 1.0000\n",
      "Epoch 00030: val_accuracy did not improve from 0.96190\n",
      "74/74 [==============================] - 2s 26ms/step - loss: 7.7623e-04 - accuracy: 1.0000 - val_loss: 0.2716 - val_accuracy: 0.9524\n",
      "Epoch 31/50\n",
      "72/74 [============================>.] - ETA: 0s - loss: 7.5167e-04 - accuracy: 1.0000 ETA: 1s -\n",
      "Epoch 00031: val_accuracy did not improve from 0.96190\n",
      "74/74 [==============================] - 2s 26ms/step - loss: 7.4187e-04 - accuracy: 1.0000 - val_loss: 0.2722 - val_accuracy: 0.9524\n",
      "Epoch 32/50\n",
      "72/74 [============================>.] - ETA: 0s - loss: 6.7514e-04 - accuracy: 1.0000\n",
      "Epoch 00032: val_accuracy did not improve from 0.96190\n",
      "74/74 [==============================] - 2s 26ms/step - loss: 7.1591e-04 - accuracy: 1.0000 - val_loss: 0.2729 - val_accuracy: 0.9524\n",
      "Epoch 33/50\n",
      "72/74 [============================>.] - ETA: 0s - loss: 7.0136e-04 - accuracy: 1.0000\n",
      "Epoch 00033: val_accuracy did not improve from 0.96190\n",
      "74/74 [==============================] - 2s 27ms/step - loss: 6.9251e-04 - accuracy: 1.0000 - val_loss: 0.2735 - val_accuracy: 0.9524\n",
      "Epoch 34/50\n",
      "73/74 [============================>.] - ETA: 0s - loss: 6.7326e-04 - accuracy: 1.0000\n",
      "Epoch 00034: val_accuracy did not improve from 0.96190\n",
      "74/74 [==============================] - 2s 26ms/step - loss: 6.6910e-04 - accuracy: 1.0000 - val_loss: 0.2737 - val_accuracy: 0.9524\n",
      "Epoch 35/50\n",
      "72/74 [============================>.] - ETA: 0s - loss: 6.3223e-04 - accuracy: 1.0000\n",
      "Epoch 00035: val_accuracy did not improve from 0.96190\n",
      "74/74 [==============================] - 2s 26ms/step - loss: 6.4972e-04 - accuracy: 1.0000 - val_loss: 0.2752 - val_accuracy: 0.9524\n",
      "Epoch 36/50\n",
      "73/74 [============================>.] - ETA: 0s - loss: 6.3890e-04 - accuracy: 1.0000\n",
      "Epoch 00036: val_accuracy did not improve from 0.96190\n",
      "74/74 [==============================] - 2s 26ms/step - loss: 6.3259e-04 - accuracy: 1.0000 - val_loss: 0.2758 - val_accuracy: 0.9524\n",
      "Epoch 37/50\n",
      "73/74 [============================>.] - ETA: 0s - loss: 6.1060e-04 - accuracy: 1.0000\n",
      "Epoch 00037: val_accuracy did not improve from 0.96190\n",
      "74/74 [==============================] - 2s 26ms/step - loss: 6.1795e-04 - accuracy: 1.0000 - val_loss: 0.2774 - val_accuracy: 0.9524\n",
      "Epoch 38/50\n",
      "71/74 [===========================>..] - ETA: 0s - loss: 6.0637e-04 - accuracy: 1.0000\n",
      "Epoch 00038: val_accuracy did not improve from 0.96190\n",
      "74/74 [==============================] - 2s 26ms/step - loss: 6.0255e-04 - accuracy: 1.0000 - val_loss: 0.2771 - val_accuracy: 0.9524\n",
      "Epoch 39/50\n",
      "72/74 [============================>.] - ETA: 0s - loss: 5.9619e-04 - accuracy: 1.0000\n",
      "Epoch 00039: val_accuracy did not improve from 0.96190\n",
      "74/74 [==============================] - 2s 26ms/step - loss: 5.8952e-04 - accuracy: 1.0000 - val_loss: 0.2782 - val_accuracy: 0.9524\n",
      "Epoch 40/50\n",
      "73/74 [============================>.] - ETA: 0s - loss: 5.8415e-04 - accuracy: 1.0000\n",
      "Epoch 00040: val_accuracy did not improve from 0.96190\n",
      "74/74 [==============================] - 2s 26ms/step - loss: 5.7876e-04 - accuracy: 1.0000 - val_loss: 0.2788 - val_accuracy: 0.9524\n",
      "Epoch 41/50\n",
      "73/74 [============================>.] - ETA: 0s - loss: 5.6737e-04 - accuracy: 1.0000\n",
      "Epoch 00041: val_accuracy did not improve from 0.96190\n",
      "74/74 [==============================] - 2s 26ms/step - loss: 5.6692e-04 - accuracy: 1.0000 - val_loss: 0.2789 - val_accuracy: 0.9524\n",
      "Epoch 42/50\n",
      "73/74 [============================>.] - ETA: 0s - loss: 5.5980e-04 - accuracy: 1.0000\n",
      "Epoch 00042: val_accuracy did not improve from 0.96190\n",
      "74/74 [==============================] - 2s 26ms/step - loss: 5.5698e-04 - accuracy: 1.0000 - val_loss: 0.2788 - val_accuracy: 0.9524\n",
      "Epoch 43/50\n",
      "72/74 [============================>.] - ETA: 0s - loss: 5.4752e-04 - accuracy: 1.0000\n",
      "Epoch 00043: val_accuracy did not improve from 0.96190\n",
      "74/74 [==============================] - 2s 26ms/step - loss: 5.4925e-04 - accuracy: 1.0000 - val_loss: 0.2786 - val_accuracy: 0.9524\n",
      "Epoch 44/50\n",
      "73/74 [============================>.] - ETA: 0s - loss: 5.4630e-04 - accuracy: 1.0000\n",
      "Epoch 00044: val_accuracy did not improve from 0.96190\n",
      "74/74 [==============================] - 2s 26ms/step - loss: 5.4032e-04 - accuracy: 1.0000 - val_loss: 0.2797 - val_accuracy: 0.9524\n",
      "Epoch 45/50\n",
      "73/74 [============================>.] - ETA: 0s - loss: 5.3885e-04 - accuracy: 1.0000\n",
      "Epoch 00045: val_accuracy did not improve from 0.96190\n",
      "74/74 [==============================] - 2s 27ms/step - loss: 5.3253e-04 - accuracy: 1.0000 - val_loss: 0.2802 - val_accuracy: 0.9524\n",
      "Epoch 46/50\n",
      "73/74 [============================>.] - ETA: 0s - loss: 5.0411e-04 - accuracy: 1.0000\n",
      "Epoch 00046: val_accuracy did not improve from 0.96190\n",
      "74/74 [==============================] - 2s 26ms/step - loss: 5.2590e-04 - accuracy: 1.0000 - val_loss: 0.2802 - val_accuracy: 0.9524\n",
      "Epoch 47/50\n",
      "73/74 [============================>.] - ETA: 0s - loss: 5.0800e-04 - accuracy: 1.0000\n",
      "Epoch 00047: val_accuracy did not improve from 0.96190\n",
      "74/74 [==============================] - 2s 26ms/step - loss: 5.1981e-04 - accuracy: 1.0000 - val_loss: 0.2801 - val_accuracy: 0.9524\n",
      "Epoch 48/50\n",
      "71/74 [===========================>..] - ETA: 0s - loss: 5.2646e-04 - accuracy: 1.0000\n",
      "Epoch 00048: val_accuracy did not improve from 0.96190\n",
      "74/74 [==============================] - 2s 26ms/step - loss: 5.1449e-04 - accuracy: 1.0000 - val_loss: 0.2815 - val_accuracy: 0.9524\n",
      "Epoch 49/50\n",
      "72/74 [============================>.] - ETA: 0s - loss: 5.0180e-04 - accuracy: 1.0000\n",
      "Epoch 00049: val_accuracy did not improve from 0.96190\n",
      "74/74 [==============================] - 2s 26ms/step - loss: 5.0903e-04 - accuracy: 1.0000 - val_loss: 0.2825 - val_accuracy: 0.9524\n",
      "Epoch 50/50\n",
      "71/74 [===========================>..] - ETA: 0s - loss: 5.0508e-04 - accuracy: 1.0000\n",
      "Epoch 00050: val_accuracy did not improve from 0.96190\n",
      "74/74 [==============================] - 2s 26ms/step - loss: 5.0384e-04 - accuracy: 1.0000 - val_loss: 0.2832 - val_accuracy: 0.9524\n"
     ]
    }
   ],
   "source": [
    "model = create_model(model_name='Simple', \n",
    "                     n_outs=num_classes,\n",
    "                     input_shape=image_shape,\n",
    "                     learning_rate=lr,\n",
    "                     pre_train=False)\n",
    "history = model.fit(x=generator['train'],\n",
    "                    validation_data=generator['val'],\n",
    "                    validation_freq=1,\n",
    "                    epochs=50,\n",
    "                    verbose=1, \n",
    "                    callbacks=[lr_callback, saving_callback])"
   ]
  },
  {
   "cell_type": "code",
   "execution_count": 26,
   "metadata": {},
   "outputs": [],
   "source": [
    "model = tf.keras.models.load_model('./tflog/simple_segmentated.h5')"
   ]
  },
  {
   "cell_type": "code",
   "execution_count": 27,
   "metadata": {},
   "outputs": [
    {
     "name": "stdout",
     "output_type": "stream",
     "text": [
      "WARNING:tensorflow:sample_weight modes were coerced from\n",
      "  ...\n",
      "    to  \n",
      "  ['...']\n",
      "14/14 [==============================] - 0s 16ms/step - loss: 0.2611 - accuracy: 0.9619\n"
     ]
    },
    {
     "data": {
      "text/plain": [
       "[0.26108564548667346, 0.96190476]"
      ]
     },
     "execution_count": 27,
     "metadata": {},
     "output_type": "execute_result"
    }
   ],
   "source": [
    "model.evaluate(generator['val'])"
   ]
  },
  {
   "cell_type": "code",
   "execution_count": 28,
   "metadata": {},
   "outputs": [
    {
     "data": {
      "image/png": "[encoded data removed]",
      "text/plain": [
       "<Figure size 432x288 with 1 Axes>"
      ]
     },
     "metadata": {
      "needs_background": "light"
     },
     "output_type": "display_data"
    }
   ],
   "source": [
    "plt.plot(history.history['val_accuracy'])\n",
    "plt.plot(history.history['accuracy'])\n",
    "plt.title('Accuracy')\n",
    "plt.xlabel('Epoch')\n",
    "plt.grid()"
   ]
  },
  {
   "cell_type": "code",
   "execution_count": 29,
   "metadata": {},
   "outputs": [
    {
     "data": {
      "text/plain": [
       "Text(0.5, 0, 'Epoch')"
      ]
     },
     "execution_count": 29,
     "metadata": {},
     "output_type": "execute_result"
    },
    {
     "data": {
      "image/png": "[encoded data removed]",
      "text/plain": [
       "<Figure size 432x288 with 1 Axes>"
      ]
     },
     "metadata": {
      "needs_background": "light"
     },
     "output_type": "display_data"
    }
   ],
   "source": [
    "plt.plot(history.history['val_loss'])\n",
    "plt.plot(history.history['loss'])\n",
    "plt.title('Loss')\n",
    "plt.xlabel('Epoch')"
   ]
  },
  {
   "cell_type": "markdown",
   "metadata": {},
   "source": [
    "### Comparison"
   ]
  },
  {
   "cell_type": "code",
   "execution_count": 30,
   "metadata": {},
   "outputs": [],
   "source": [
    "from sklearn.metrics import confusion_matrix"
   ]
  },
  {
   "cell_type": "code",
   "execution_count": 31,
   "metadata": {},
   "outputs": [],
   "source": [
    "true = test_frame['Label'].values.astype('int64')\n",
    "pred = np.argmax(model.predict(generator['val']), axis=1)\n",
    "\n",
    "# old_true = old_test_frame['Label'].values.astype('int64')\n",
    "# old_pred = np.argmax(old_model.predict(old_generator['val']), axis=1)"
   ]
  },
  {
   "cell_type": "code",
   "execution_count": 32,
   "metadata": {},
   "outputs": [
    {
     "data": {
      "text/plain": [
       "array([[19,  1],\n",
       "       [ 3, 82]], dtype=int64)"
      ]
     },
     "execution_count": 32,
     "metadata": {},
     "output_type": "execute_result"
    }
   ],
   "source": [
    "confusion_matrix(y_true=true, y_pred=pred)"
   ]
  },
  {
   "cell_type": "code",
   "execution_count": 21,
   "metadata": {},
   "outputs": [
    {
     "data": {
      "text/plain": [
       "array([[ 2,  0,  0,  0],\n",
       "       [ 0,  3,  1,  2],\n",
       "       [ 0,  0, 41,  0],\n",
       "       [ 0,  0,  0,  4]], dtype=int64)"
      ]
     },
     "execution_count": 21,
     "metadata": {},
     "output_type": "execute_result"
    }
   ],
   "source": [
    "confusion_matrix(y_true=old_true, y_pred=old_pred)"
   ]
  }
 ],
 "metadata": {
  "kernelspec": {
   "display_name": "Python 3",
   "language": "python",
   "name": "python3"
  },
  "language_info": {
   "codemirror_mode": {
    "name": "ipython",
    "version": 3
   },
   "file_extension": ".py",
   "mimetype": "text/x-python",
   "name": "python",
   "nbconvert_exporter": "python",
   "pygments_lexer": "ipython3",
   "version": "3.7.7"
  }
 },
 "nbformat": 4,
 "nbformat_minor": 4
}
